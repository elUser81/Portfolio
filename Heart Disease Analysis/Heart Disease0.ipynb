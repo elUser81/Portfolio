{
 "cells": [
  {
   "cell_type": "code",
   "execution_count": 30,
   "metadata": {},
   "outputs": [],
   "source": [
    "import pandas as pd\n",
    "import numpy as np\n",
    "import seaborn as sns\n",
    "import matplotlib.pyplot as plt\n",
    "%matplotlib inline "
   ]
  },
  {
   "cell_type": "code",
   "execution_count": 31,
   "metadata": {},
   "outputs": [
    {
     "data": {
      "text/html": [
       "<div>\n",
       "<style scoped>\n",
       "    .dataframe tbody tr th:only-of-type {\n",
       "        vertical-align: middle;\n",
       "    }\n",
       "\n",
       "    .dataframe tbody tr th {\n",
       "        vertical-align: top;\n",
       "    }\n",
       "\n",
       "    .dataframe thead th {\n",
       "        text-align: right;\n",
       "    }\n",
       "</style>\n",
       "<table border=\"1\" class=\"dataframe\">\n",
       "  <thead>\n",
       "    <tr style=\"text-align: right;\">\n",
       "      <th></th>\n",
       "      <th>slope_of_peak_exercise_st_segment</th>\n",
       "      <th>thal</th>\n",
       "      <th>resting_blood_pressure</th>\n",
       "      <th>chest_pain_type</th>\n",
       "      <th>num_major_vessels</th>\n",
       "      <th>fasting_blood_sugar_gt_120_mg_per_dl</th>\n",
       "      <th>resting_ekg_results</th>\n",
       "      <th>serum_cholesterol_mg_per_dl</th>\n",
       "      <th>oldpeak_eq_st_depression</th>\n",
       "      <th>sex</th>\n",
       "      <th>age</th>\n",
       "      <th>max_heart_rate_achieved</th>\n",
       "      <th>exercise_induced_angina</th>\n",
       "    </tr>\n",
       "  </thead>\n",
       "  <tbody>\n",
       "    <tr>\n",
       "      <th>0</th>\n",
       "      <td>1</td>\n",
       "      <td>normal</td>\n",
       "      <td>128</td>\n",
       "      <td>2</td>\n",
       "      <td>0</td>\n",
       "      <td>0</td>\n",
       "      <td>2</td>\n",
       "      <td>308</td>\n",
       "      <td>0.0</td>\n",
       "      <td>1</td>\n",
       "      <td>45</td>\n",
       "      <td>170</td>\n",
       "      <td>0</td>\n",
       "    </tr>\n",
       "    <tr>\n",
       "      <th>1</th>\n",
       "      <td>2</td>\n",
       "      <td>normal</td>\n",
       "      <td>110</td>\n",
       "      <td>3</td>\n",
       "      <td>0</td>\n",
       "      <td>0</td>\n",
       "      <td>0</td>\n",
       "      <td>214</td>\n",
       "      <td>1.6</td>\n",
       "      <td>0</td>\n",
       "      <td>54</td>\n",
       "      <td>158</td>\n",
       "      <td>0</td>\n",
       "    </tr>\n",
       "    <tr>\n",
       "      <th>2</th>\n",
       "      <td>1</td>\n",
       "      <td>normal</td>\n",
       "      <td>125</td>\n",
       "      <td>4</td>\n",
       "      <td>3</td>\n",
       "      <td>0</td>\n",
       "      <td>2</td>\n",
       "      <td>304</td>\n",
       "      <td>0.0</td>\n",
       "      <td>1</td>\n",
       "      <td>77</td>\n",
       "      <td>162</td>\n",
       "      <td>1</td>\n",
       "    </tr>\n",
       "    <tr>\n",
       "      <th>3</th>\n",
       "      <td>1</td>\n",
       "      <td>reversible_defect</td>\n",
       "      <td>152</td>\n",
       "      <td>4</td>\n",
       "      <td>0</td>\n",
       "      <td>0</td>\n",
       "      <td>0</td>\n",
       "      <td>223</td>\n",
       "      <td>0.0</td>\n",
       "      <td>1</td>\n",
       "      <td>40</td>\n",
       "      <td>181</td>\n",
       "      <td>0</td>\n",
       "    </tr>\n",
       "    <tr>\n",
       "      <th>4</th>\n",
       "      <td>3</td>\n",
       "      <td>reversible_defect</td>\n",
       "      <td>178</td>\n",
       "      <td>1</td>\n",
       "      <td>0</td>\n",
       "      <td>0</td>\n",
       "      <td>2</td>\n",
       "      <td>270</td>\n",
       "      <td>4.2</td>\n",
       "      <td>1</td>\n",
       "      <td>59</td>\n",
       "      <td>145</td>\n",
       "      <td>0</td>\n",
       "    </tr>\n",
       "  </tbody>\n",
       "</table>\n",
       "</div>"
      ],
      "text/plain": [
       "   slope_of_peak_exercise_st_segment               thal  \\\n",
       "0                                  1             normal   \n",
       "1                                  2             normal   \n",
       "2                                  1             normal   \n",
       "3                                  1  reversible_defect   \n",
       "4                                  3  reversible_defect   \n",
       "\n",
       "   resting_blood_pressure  chest_pain_type  num_major_vessels  \\\n",
       "0                     128                2                  0   \n",
       "1                     110                3                  0   \n",
       "2                     125                4                  3   \n",
       "3                     152                4                  0   \n",
       "4                     178                1                  0   \n",
       "\n",
       "   fasting_blood_sugar_gt_120_mg_per_dl  resting_ekg_results  \\\n",
       "0                                     0                    2   \n",
       "1                                     0                    0   \n",
       "2                                     0                    2   \n",
       "3                                     0                    0   \n",
       "4                                     0                    2   \n",
       "\n",
       "   serum_cholesterol_mg_per_dl  oldpeak_eq_st_depression  sex  age  \\\n",
       "0                          308                       0.0    1   45   \n",
       "1                          214                       1.6    0   54   \n",
       "2                          304                       0.0    1   77   \n",
       "3                          223                       0.0    1   40   \n",
       "4                          270                       4.2    1   59   \n",
       "\n",
       "   max_heart_rate_achieved  exercise_induced_angina  \n",
       "0                      170                        0  \n",
       "1                      158                        0  \n",
       "2                      162                        1  \n",
       "3                      181                        0  \n",
       "4                      145                        0  "
      ]
     },
     "execution_count": 31,
     "metadata": {},
     "output_type": "execute_result"
    }
   ],
   "source": [
    "train_vals = pd.read_csv('train_values.csv').drop(columns = 'patient_id')\n",
    "train_labs = pd.read_csv('train_labels.csv').drop(columns = 'patient_id')\n",
    "train_set = pd.read_csv('train_values.csv').drop(columns = 'patient_id')\n",
    "train_set['heart_disease_present'] = train_labs['heart_disease_present']\n",
    "test_values = pd.read_csv('test_values.csv')\n",
    "\n",
    "train_vals.head()\n"
   ]
  },
  {
   "cell_type": "code",
   "execution_count": 32,
   "metadata": {},
   "outputs": [
    {
     "data": {
      "text/html": [
       "<div>\n",
       "<style scoped>\n",
       "    .dataframe tbody tr th:only-of-type {\n",
       "        vertical-align: middle;\n",
       "    }\n",
       "\n",
       "    .dataframe tbody tr th {\n",
       "        vertical-align: top;\n",
       "    }\n",
       "\n",
       "    .dataframe thead th {\n",
       "        text-align: right;\n",
       "    }\n",
       "</style>\n",
       "<table border=\"1\" class=\"dataframe\">\n",
       "  <thead>\n",
       "    <tr style=\"text-align: right;\">\n",
       "      <th></th>\n",
       "      <th>slope_of_peak_exercise_st_segment</th>\n",
       "      <th>thal</th>\n",
       "      <th>resting_blood_pressure</th>\n",
       "      <th>chest_pain_type</th>\n",
       "      <th>num_major_vessels</th>\n",
       "      <th>fasting_blood_sugar_gt_120_mg_per_dl</th>\n",
       "      <th>resting_ekg_results</th>\n",
       "      <th>serum_cholesterol_mg_per_dl</th>\n",
       "      <th>oldpeak_eq_st_depression</th>\n",
       "      <th>sex</th>\n",
       "      <th>age</th>\n",
       "      <th>max_heart_rate_achieved</th>\n",
       "      <th>exercise_induced_angina</th>\n",
       "      <th>heart_disease_present</th>\n",
       "    </tr>\n",
       "  </thead>\n",
       "  <tbody>\n",
       "    <tr>\n",
       "      <th>0</th>\n",
       "      <td>1</td>\n",
       "      <td>normal</td>\n",
       "      <td>128</td>\n",
       "      <td>2</td>\n",
       "      <td>0</td>\n",
       "      <td>0</td>\n",
       "      <td>2</td>\n",
       "      <td>308</td>\n",
       "      <td>0.0</td>\n",
       "      <td>1</td>\n",
       "      <td>45</td>\n",
       "      <td>170</td>\n",
       "      <td>0</td>\n",
       "      <td>0</td>\n",
       "    </tr>\n",
       "    <tr>\n",
       "      <th>1</th>\n",
       "      <td>2</td>\n",
       "      <td>normal</td>\n",
       "      <td>110</td>\n",
       "      <td>3</td>\n",
       "      <td>0</td>\n",
       "      <td>0</td>\n",
       "      <td>0</td>\n",
       "      <td>214</td>\n",
       "      <td>1.6</td>\n",
       "      <td>0</td>\n",
       "      <td>54</td>\n",
       "      <td>158</td>\n",
       "      <td>0</td>\n",
       "      <td>0</td>\n",
       "    </tr>\n",
       "    <tr>\n",
       "      <th>2</th>\n",
       "      <td>1</td>\n",
       "      <td>normal</td>\n",
       "      <td>125</td>\n",
       "      <td>4</td>\n",
       "      <td>3</td>\n",
       "      <td>0</td>\n",
       "      <td>2</td>\n",
       "      <td>304</td>\n",
       "      <td>0.0</td>\n",
       "      <td>1</td>\n",
       "      <td>77</td>\n",
       "      <td>162</td>\n",
       "      <td>1</td>\n",
       "      <td>1</td>\n",
       "    </tr>\n",
       "    <tr>\n",
       "      <th>3</th>\n",
       "      <td>1</td>\n",
       "      <td>reversible_defect</td>\n",
       "      <td>152</td>\n",
       "      <td>4</td>\n",
       "      <td>0</td>\n",
       "      <td>0</td>\n",
       "      <td>0</td>\n",
       "      <td>223</td>\n",
       "      <td>0.0</td>\n",
       "      <td>1</td>\n",
       "      <td>40</td>\n",
       "      <td>181</td>\n",
       "      <td>0</td>\n",
       "      <td>1</td>\n",
       "    </tr>\n",
       "    <tr>\n",
       "      <th>4</th>\n",
       "      <td>3</td>\n",
       "      <td>reversible_defect</td>\n",
       "      <td>178</td>\n",
       "      <td>1</td>\n",
       "      <td>0</td>\n",
       "      <td>0</td>\n",
       "      <td>2</td>\n",
       "      <td>270</td>\n",
       "      <td>4.2</td>\n",
       "      <td>1</td>\n",
       "      <td>59</td>\n",
       "      <td>145</td>\n",
       "      <td>0</td>\n",
       "      <td>0</td>\n",
       "    </tr>\n",
       "  </tbody>\n",
       "</table>\n",
       "</div>"
      ],
      "text/plain": [
       "   slope_of_peak_exercise_st_segment               thal  \\\n",
       "0                                  1             normal   \n",
       "1                                  2             normal   \n",
       "2                                  1             normal   \n",
       "3                                  1  reversible_defect   \n",
       "4                                  3  reversible_defect   \n",
       "\n",
       "   resting_blood_pressure  chest_pain_type  num_major_vessels  \\\n",
       "0                     128                2                  0   \n",
       "1                     110                3                  0   \n",
       "2                     125                4                  3   \n",
       "3                     152                4                  0   \n",
       "4                     178                1                  0   \n",
       "\n",
       "   fasting_blood_sugar_gt_120_mg_per_dl  resting_ekg_results  \\\n",
       "0                                     0                    2   \n",
       "1                                     0                    0   \n",
       "2                                     0                    2   \n",
       "3                                     0                    0   \n",
       "4                                     0                    2   \n",
       "\n",
       "   serum_cholesterol_mg_per_dl  oldpeak_eq_st_depression  sex  age  \\\n",
       "0                          308                       0.0    1   45   \n",
       "1                          214                       1.6    0   54   \n",
       "2                          304                       0.0    1   77   \n",
       "3                          223                       0.0    1   40   \n",
       "4                          270                       4.2    1   59   \n",
       "\n",
       "   max_heart_rate_achieved  exercise_induced_angina  heart_disease_present  \n",
       "0                      170                        0                      0  \n",
       "1                      158                        0                      0  \n",
       "2                      162                        1                      1  \n",
       "3                      181                        0                      1  \n",
       "4                      145                        0                      0  "
      ]
     },
     "execution_count": 32,
     "metadata": {},
     "output_type": "execute_result"
    }
   ],
   "source": [
    "train_set.head()\n",
    "#train_set.to_csv('clean_data.csv')"
   ]
  },
  {
   "cell_type": "markdown",
   "metadata": {},
   "source": [
    "need to convert text data to quantitative data... how many unique elements are there?"
   ]
  },
  {
   "cell_type": "code",
   "execution_count": 33,
   "metadata": {},
   "outputs": [
    {
     "data": {
      "text/plain": [
       "array(['normal', 'reversible_defect', 'fixed_defect'], dtype=object)"
      ]
     },
     "execution_count": 33,
     "metadata": {},
     "output_type": "execute_result"
    }
   ],
   "source": [
    "train_set['thal'].unique()"
   ]
  },
  {
   "cell_type": "markdown",
   "metadata": {},
   "source": [
    "## def quantize_thal(thal_text):\n",
    "    thal_elements = ['normal', 'reversible_defect', 'fixed_defect']\n",
    "    return thal_elements.index(thal_text)\n",
    "\n",
    "train_set['quant_thal'] = train_set['thal'].apply(quantize_thal)\n",
    "train_vals['quant_thal'] = train_vals['thal'].apply(quantize_thal)\n",
    "train_vals = train_vals.drop(columns = 'thal')\n",
    "train_set = train_set.drop(columns = 'thal')\n",
    "train_set.to_csv('clean_data.csv')\n",
    "\n",
    "    "
   ]
  },
  {
   "cell_type": "code",
   "execution_count": 35,
   "metadata": {},
   "outputs": [
    {
     "data": {
      "text/html": [
       "<div>\n",
       "<style scoped>\n",
       "    .dataframe tbody tr th:only-of-type {\n",
       "        vertical-align: middle;\n",
       "    }\n",
       "\n",
       "    .dataframe tbody tr th {\n",
       "        vertical-align: top;\n",
       "    }\n",
       "\n",
       "    .dataframe thead th {\n",
       "        text-align: right;\n",
       "    }\n",
       "</style>\n",
       "<table border=\"1\" class=\"dataframe\">\n",
       "  <thead>\n",
       "    <tr style=\"text-align: right;\">\n",
       "      <th></th>\n",
       "      <th>slope_of_peak_exercise_st_segment</th>\n",
       "      <th>resting_blood_pressure</th>\n",
       "      <th>chest_pain_type</th>\n",
       "      <th>num_major_vessels</th>\n",
       "      <th>fasting_blood_sugar_gt_120_mg_per_dl</th>\n",
       "      <th>resting_ekg_results</th>\n",
       "      <th>serum_cholesterol_mg_per_dl</th>\n",
       "      <th>oldpeak_eq_st_depression</th>\n",
       "      <th>sex</th>\n",
       "      <th>age</th>\n",
       "      <th>max_heart_rate_achieved</th>\n",
       "      <th>exercise_induced_angina</th>\n",
       "      <th>heart_disease_present</th>\n",
       "      <th>quant_thal</th>\n",
       "    </tr>\n",
       "  </thead>\n",
       "  <tbody>\n",
       "    <tr>\n",
       "      <th>0</th>\n",
       "      <td>1</td>\n",
       "      <td>128</td>\n",
       "      <td>2</td>\n",
       "      <td>0</td>\n",
       "      <td>0</td>\n",
       "      <td>2</td>\n",
       "      <td>308</td>\n",
       "      <td>0.0</td>\n",
       "      <td>1</td>\n",
       "      <td>45</td>\n",
       "      <td>170</td>\n",
       "      <td>0</td>\n",
       "      <td>0</td>\n",
       "      <td>0</td>\n",
       "    </tr>\n",
       "    <tr>\n",
       "      <th>1</th>\n",
       "      <td>2</td>\n",
       "      <td>110</td>\n",
       "      <td>3</td>\n",
       "      <td>0</td>\n",
       "      <td>0</td>\n",
       "      <td>0</td>\n",
       "      <td>214</td>\n",
       "      <td>1.6</td>\n",
       "      <td>0</td>\n",
       "      <td>54</td>\n",
       "      <td>158</td>\n",
       "      <td>0</td>\n",
       "      <td>0</td>\n",
       "      <td>0</td>\n",
       "    </tr>\n",
       "    <tr>\n",
       "      <th>2</th>\n",
       "      <td>1</td>\n",
       "      <td>125</td>\n",
       "      <td>4</td>\n",
       "      <td>3</td>\n",
       "      <td>0</td>\n",
       "      <td>2</td>\n",
       "      <td>304</td>\n",
       "      <td>0.0</td>\n",
       "      <td>1</td>\n",
       "      <td>77</td>\n",
       "      <td>162</td>\n",
       "      <td>1</td>\n",
       "      <td>1</td>\n",
       "      <td>0</td>\n",
       "    </tr>\n",
       "    <tr>\n",
       "      <th>3</th>\n",
       "      <td>1</td>\n",
       "      <td>152</td>\n",
       "      <td>4</td>\n",
       "      <td>0</td>\n",
       "      <td>0</td>\n",
       "      <td>0</td>\n",
       "      <td>223</td>\n",
       "      <td>0.0</td>\n",
       "      <td>1</td>\n",
       "      <td>40</td>\n",
       "      <td>181</td>\n",
       "      <td>0</td>\n",
       "      <td>1</td>\n",
       "      <td>1</td>\n",
       "    </tr>\n",
       "    <tr>\n",
       "      <th>4</th>\n",
       "      <td>3</td>\n",
       "      <td>178</td>\n",
       "      <td>1</td>\n",
       "      <td>0</td>\n",
       "      <td>0</td>\n",
       "      <td>2</td>\n",
       "      <td>270</td>\n",
       "      <td>4.2</td>\n",
       "      <td>1</td>\n",
       "      <td>59</td>\n",
       "      <td>145</td>\n",
       "      <td>0</td>\n",
       "      <td>0</td>\n",
       "      <td>1</td>\n",
       "    </tr>\n",
       "  </tbody>\n",
       "</table>\n",
       "</div>"
      ],
      "text/plain": [
       "   slope_of_peak_exercise_st_segment  resting_blood_pressure  chest_pain_type  \\\n",
       "0                                  1                     128                2   \n",
       "1                                  2                     110                3   \n",
       "2                                  1                     125                4   \n",
       "3                                  1                     152                4   \n",
       "4                                  3                     178                1   \n",
       "\n",
       "   num_major_vessels  fasting_blood_sugar_gt_120_mg_per_dl  \\\n",
       "0                  0                                     0   \n",
       "1                  0                                     0   \n",
       "2                  3                                     0   \n",
       "3                  0                                     0   \n",
       "4                  0                                     0   \n",
       "\n",
       "   resting_ekg_results  serum_cholesterol_mg_per_dl  oldpeak_eq_st_depression  \\\n",
       "0                    2                          308                       0.0   \n",
       "1                    0                          214                       1.6   \n",
       "2                    2                          304                       0.0   \n",
       "3                    0                          223                       0.0   \n",
       "4                    2                          270                       4.2   \n",
       "\n",
       "   sex  age  max_heart_rate_achieved  exercise_induced_angina  \\\n",
       "0    1   45                      170                        0   \n",
       "1    0   54                      158                        0   \n",
       "2    1   77                      162                        1   \n",
       "3    1   40                      181                        0   \n",
       "4    1   59                      145                        0   \n",
       "\n",
       "   heart_disease_present  quant_thal  \n",
       "0                      0           0  \n",
       "1                      0           0  \n",
       "2                      1           0  \n",
       "3                      1           1  \n",
       "4                      0           1  "
      ]
     },
     "execution_count": 35,
     "metadata": {},
     "output_type": "execute_result"
    }
   ],
   "source": [
    "train_set.head()"
   ]
  },
  {
   "cell_type": "code",
   "execution_count": 15,
   "metadata": {},
   "outputs": [
    {
     "data": {
      "text/plain": [
       "<matplotlib.axes._subplots.AxesSubplot at 0x19ac9bad908>"
      ]
     },
     "execution_count": 15,
     "metadata": {},
     "output_type": "execute_result"
    },
    {
     "data": {
      "image/png": "[encoded data removed]",
      "text/plain": [
       "<Figure size 432x288 with 1 Axes>"
      ]
     },
     "metadata": {
      "needs_background": "light"
     },
     "output_type": "display_data"
    }
   ],
   "source": [
    "sns.countplot(x = 'quant_thal', hue = 'heart_disease_present', data = train_set)"
   ]
  },
  {
   "cell_type": "code",
   "execution_count": 44,
   "metadata": {},
   "outputs": [],
   "source": [
    "#sns.pairplot(train_set, hue = 'heart_disease_present')"
   ]
  },
  {
   "cell_type": "markdown",
   "metadata": {},
   "source": [
    "# Standardizing the Data"
   ]
  },
  {
   "cell_type": "code",
   "execution_count": 16,
   "metadata": {},
   "outputs": [],
   "source": [
    "from sklearn.preprocessing import StandardScaler \n",
    "scaler = StandardScaler()\n",
    "scaler.fit(train_vals)\n",
    "scaled_train_vals = scaler.transform(train_vals)\n",
    "scaled_train_vals = pd.DataFrame(scaled_train_vals, columns = train_vals.columns)"
   ]
  },
  {
   "cell_type": "code",
   "execution_count": null,
   "metadata": {},
   "outputs": [],
   "source": []
  },
  {
   "cell_type": "markdown",
   "metadata": {},
   "source": [
    "# Spliting into train and test data"
   ]
  },
  {
   "cell_type": "code",
   "execution_count": 46,
   "metadata": {},
   "outputs": [],
   "source": [
    "from sklearn.model_selection import train_test_split\n",
    "test_size = 0.33\n",
    "\n",
    "x_train, x_test, y_train, y_test = train_test_split(train_vals, train_labs, test_size = test_size, random_state = 42)\n",
    "scaled_x_train, scaled_x_test, scaled_y_train, scaled_y_test = train_test_split(scaled_train_vals, train_labs, test_size = test_size, random_state = 101)\n"
   ]
  },
  {
   "cell_type": "markdown",
   "metadata": {},
   "source": [
    "#  Logistic Regression Model"
   ]
  },
  {
   "cell_type": "code",
   "execution_count": 47,
   "metadata": {},
   "outputs": [
    {
     "name": "stderr",
     "output_type": "stream",
     "text": [
      "C:\\Users\\nateo\\Anaconda3\\envs\\Algorithmic Trading\\lib\\site-packages\\sklearn\\utils\\validation.py:744: DataConversionWarning: A column-vector y was passed when a 1d array was expected. Please change the shape of y to (n_samples, ), for example using ravel().\n",
      "  y = column_or_1d(y, warn=True)\n",
      "C:\\Users\\nateo\\Anaconda3\\envs\\Algorithmic Trading\\lib\\site-packages\\sklearn\\linear_model\\_logistic.py:939: ConvergenceWarning: lbfgs failed to converge (status=1):\n",
      "STOP: TOTAL NO. of ITERATIONS REACHED LIMIT.\n",
      "\n",
      "Increase the number of iterations (max_iter) or scale the data as shown in:\n",
      "    https://scikit-learn.org/stable/modules/preprocessing.html.\n",
      "Please also refer to the documentation for alternative solver options:\n",
      "    https://scikit-learn.org/stable/modules/linear_model.html#logistic-regression\n",
      "  extra_warning_msg=_LOGISTIC_SOLVER_CONVERGENCE_MSG)\n"
     ]
    },
    {
     "data": {
      "text/plain": [
       "LogisticRegression(C=1.0, class_weight=None, dual=False, fit_intercept=True,\n",
       "                   intercept_scaling=1, l1_ratio=None, max_iter=100,\n",
       "                   multi_class='auto', n_jobs=None, penalty='l2',\n",
       "                   random_state=None, solver='lbfgs', tol=0.0001, verbose=0,\n",
       "                   warm_start=False)"
      ]
     },
     "execution_count": 47,
     "metadata": {},
     "output_type": "execute_result"
    }
   ],
   "source": [
    "from sklearn.linear_model import LogisticRegression as LM\n",
    "\n",
    "log_model = LM()\n",
    "log_model.fit(x_train, y_train)"
   ]
  },
  {
   "cell_type": "code",
   "execution_count": 48,
   "metadata": {},
   "outputs": [],
   "source": [
    "log_pred = log_model.predict(x_test)"
   ]
  },
  {
   "cell_type": "code",
   "execution_count": 49,
   "metadata": {
    "scrolled": true
   },
   "outputs": [
    {
     "name": "stdout",
     "output_type": "stream",
     "text": [
      "              precision    recall  f1-score   support\n",
      "\n",
      "           0       0.93      0.71      0.81        35\n",
      "           1       0.70      0.92      0.79        25\n",
      "\n",
      "    accuracy                           0.80        60\n",
      "   macro avg       0.81      0.82      0.80        60\n",
      "weighted avg       0.83      0.80      0.80        60\n",
      "\n",
      "6.907781932229811\n"
     ]
    }
   ],
   "source": [
    "from sklearn.metrics import classification_report,confusion_matrix, precision_score, log_loss\n",
    "\n",
    "print(classification_report(log_pred, y_test))\n",
    "print(log_loss(y_test, log_pred))"
   ]
  },
  {
   "cell_type": "markdown",
   "metadata": {},
   "source": [
    "#  Random Forest Model"
   ]
  },
  {
   "cell_type": "code",
   "execution_count": 50,
   "metadata": {},
   "outputs": [
    {
     "ename": "ModuleNotFoundError",
     "evalue": "No module named 'tqdm'",
     "output_type": "error",
     "traceback": [
      "\u001b[1;31m---------------------------------------------------------------------------\u001b[0m",
      "\u001b[1;31mModuleNotFoundError\u001b[0m                       Traceback (most recent call last)",
      "\u001b[1;32m<ipython-input-50-c33bba18e97f>\u001b[0m in \u001b[0;36m<module>\u001b[1;34m\u001b[0m\n\u001b[0;32m      1\u001b[0m \u001b[1;32mfrom\u001b[0m \u001b[0msklearn\u001b[0m\u001b[1;33m.\u001b[0m\u001b[0mensemble\u001b[0m \u001b[1;32mimport\u001b[0m \u001b[0mRandomForestClassifier\u001b[0m\u001b[1;33m\u001b[0m\u001b[1;33m\u001b[0m\u001b[0m\n\u001b[1;32m----> 2\u001b[1;33m \u001b[1;32mfrom\u001b[0m \u001b[0mtqdm\u001b[0m \u001b[1;32mimport\u001b[0m \u001b[0mtqdm\u001b[0m\u001b[1;33m\u001b[0m\u001b[1;33m\u001b[0m\u001b[0m\n\u001b[0m\u001b[0;32m      3\u001b[0m \u001b[0mlog_loss_list\u001b[0m \u001b[1;33m=\u001b[0m \u001b[1;33m[\u001b[0m\u001b[1;33m]\u001b[0m\u001b[1;33m\u001b[0m\u001b[1;33m\u001b[0m\u001b[0m\n\u001b[0;32m      4\u001b[0m \u001b[0mn_est_list\u001b[0m \u001b[1;33m=\u001b[0m \u001b[1;33m[\u001b[0m\u001b[1;33m]\u001b[0m\u001b[1;33m\u001b[0m\u001b[1;33m\u001b[0m\u001b[0m\n\u001b[0;32m      5\u001b[0m \u001b[0mrng\u001b[0m \u001b[1;33m=\u001b[0m \u001b[1;36m100\u001b[0m\u001b[1;33m\u001b[0m\u001b[1;33m\u001b[0m\u001b[0m\n",
      "\u001b[1;31mModuleNotFoundError\u001b[0m: No module named 'tqdm'"
     ]
    }
   ],
   "source": [
    "from sklearn.ensemble import RandomForestClassifier\n",
    "from tqdm import tqdm\n",
    "log_loss_list = []\n",
    "n_est_list = []\n",
    "rng = 100\n",
    "\n",
    "for i in range(1,rng):\n",
    "    rfc = RandomForestClassifier(n_estimators=i)\n",
    "    n_est_list.append(i)\n",
    "    forest_train = np.asarray(y_train).ravel()\n",
    "    rfc.fit(x_train,forest_train)\n",
    "    forest_pred_i = rfc.predict(x_test)\n",
    "    log_loss_list.append(log_loss(y_test, forest_pred_i))\n",
    "best_value = n_est_list[log_loss_list.index(min(log_loss_list))]\n",
    "print('Best Value for estimator: ', best_value, ' Loss: ', min(log_loss_list))\n",
    "\n",
    "rfc = RandomForestClassifier(n_estimators=best_value)\n",
    "forest_train = np.asarray(y_train).ravel()\n",
    "rfc.fit(x_train,forest_train)\n",
    "forest_pred = rfc.predict(x_test)\n",
    "print(log_loss(y_test, forest_pred))\n"
   ]
  },
  {
   "cell_type": "code",
   "execution_count": 51,
   "metadata": {},
   "outputs": [
    {
     "ename": "NameError",
     "evalue": "name 'log_loss_list' is not defined",
     "output_type": "error",
     "traceback": [
      "\u001b[1;31m---------------------------------------------------------------------------\u001b[0m",
      "\u001b[1;31mNameError\u001b[0m                                 Traceback (most recent call last)",
      "\u001b[1;32m<ipython-input-51-9406ab951e23>\u001b[0m in \u001b[0;36m<module>\u001b[1;34m\u001b[0m\n\u001b[0;32m      1\u001b[0m \u001b[0mplt\u001b[0m\u001b[1;33m.\u001b[0m\u001b[0mfigure\u001b[0m\u001b[1;33m(\u001b[0m\u001b[0mfigsize\u001b[0m \u001b[1;33m=\u001b[0m \u001b[1;33m(\u001b[0m\u001b[1;36m10\u001b[0m\u001b[1;33m,\u001b[0m\u001b[1;36m6\u001b[0m\u001b[1;33m)\u001b[0m\u001b[1;33m)\u001b[0m\u001b[1;33m\u001b[0m\u001b[1;33m\u001b[0m\u001b[0m\n\u001b[1;32m----> 2\u001b[1;33m plt.plot(log_loss_list, color = 'blue', linestyle = 'dashed', marker = 'o', \n\u001b[0m\u001b[0;32m      3\u001b[0m          markerfacecolor = 'red', markersize = 10)\n\u001b[0;32m      4\u001b[0m \u001b[0mplt\u001b[0m\u001b[1;33m.\u001b[0m\u001b[0mtitle\u001b[0m\u001b[1;33m(\u001b[0m\u001b[1;34m'Loss vs N estimators'\u001b[0m\u001b[1;33m)\u001b[0m\u001b[1;33m\u001b[0m\u001b[1;33m\u001b[0m\u001b[0m\n\u001b[0;32m      5\u001b[0m \u001b[0mplt\u001b[0m\u001b[1;33m.\u001b[0m\u001b[0mxlabel\u001b[0m\u001b[1;33m(\u001b[0m\u001b[1;34m'N'\u001b[0m\u001b[1;33m)\u001b[0m\u001b[1;33m\u001b[0m\u001b[1;33m\u001b[0m\u001b[0m\n",
      "\u001b[1;31mNameError\u001b[0m: name 'log_loss_list' is not defined"
     ]
    },
    {
     "data": {
      "text/plain": [
       "<Figure size 720x432 with 0 Axes>"
      ]
     },
     "metadata": {},
     "output_type": "display_data"
    }
   ],
   "source": [
    "plt.figure(figsize = (10,6))\n",
    "plt.plot(log_loss_list, color = 'blue', linestyle = 'dashed', marker = 'o', \n",
    "         markerfacecolor = 'red', markersize = 10)\n",
    "plt.title('Loss vs N estimators')\n",
    "plt.xlabel('N')\n",
    "plt.ylabel('loss')"
   ]
  },
  {
   "cell_type": "code",
   "execution_count": 52,
   "metadata": {},
   "outputs": [
    {
     "name": "stdout",
     "output_type": "stream",
     "text": [
      "6.907755278982137\n"
     ]
    }
   ],
   "source": [
    "rfc = RandomForestClassifier(n_estimators=52)\n",
    "forest_train = np.asarray(y_train).ravel()\n",
    "rfc.fit(x_train,forest_train)\n",
    "forest_pred = rfc.predict(x_test)\n",
    "print(log_loss(y_test, forest_pred))"
   ]
  },
  {
   "cell_type": "code",
   "execution_count": null,
   "metadata": {},
   "outputs": [],
   "source": []
  },
  {
   "cell_type": "code",
   "execution_count": 53,
   "metadata": {},
   "outputs": [
    {
     "name": "stdout",
     "output_type": "stream",
     "text": [
      "              precision    recall  f1-score   support\n",
      "\n",
      "           0       0.69      1.00      0.82        27\n",
      "           1       1.00      0.64      0.78        33\n",
      "\n",
      "    accuracy                           0.80        60\n",
      "   macro avg       0.85      0.82      0.80        60\n",
      "weighted avg       0.86      0.80      0.80        60\n",
      "\n",
      "6.907755278982137\n"
     ]
    }
   ],
   "source": [
    "print(classification_report(y_test,forest_pred))\n",
    "print(log_loss(y_test, forest_pred))"
   ]
  },
  {
   "cell_type": "markdown",
   "metadata": {},
   "source": [
    "# Naive Bayes Algorithm"
   ]
  },
  {
   "cell_type": "code",
   "execution_count": 54,
   "metadata": {},
   "outputs": [
    {
     "name": "stdout",
     "output_type": "stream",
     "text": [
      "              precision    recall  f1-score   support\n",
      "\n",
      "           0       1.00      0.69      0.82        39\n",
      "           1       0.64      1.00      0.78        21\n",
      "\n",
      "    accuracy                           0.80        60\n",
      "   macro avg       0.82      0.85      0.80        60\n",
      "weighted avg       0.87      0.80      0.80        60\n",
      "\n"
     ]
    },
    {
     "data": {
      "text/plain": [
       "6.907915198468176"
      ]
     },
     "execution_count": 54,
     "metadata": {},
     "output_type": "execute_result"
    }
   ],
   "source": [
    "from sklearn.naive_bayes import GaussianNB\n",
    "nb = GaussianNB()\n",
    "nb_y_train = np.asarray(y_train).ravel()\n",
    "nb.fit(x_train, nb_y_train)\n",
    "\n",
    "nb_pred = nb.predict(x_test)\n",
    "print(classification_report(nb_pred, y_test))\n",
    "log_loss(nb_pred, y_test)\n",
    "\n"
   ]
  },
  {
   "cell_type": "markdown",
   "metadata": {},
   "source": [
    "# KNN Algorithm "
   ]
  },
  {
   "cell_type": "code",
   "execution_count": 55,
   "metadata": {},
   "outputs": [
    {
     "name": "stdout",
     "output_type": "stream",
     "text": [
      "              precision    recall  f1-score   support\n",
      "\n",
      "           0       0.38      0.56      0.45        27\n",
      "           1       0.43      0.27      0.33        33\n",
      "\n",
      "    accuracy                           0.40        60\n",
      "   macro avg       0.41      0.41      0.39        60\n",
      "weighted avg       0.41      0.40      0.39        60\n",
      "\n",
      "20.723425756432448\n"
     ]
    },
    {
     "name": "stderr",
     "output_type": "stream",
     "text": [
      "C:\\Users\\nateo\\Anaconda3\\envs\\Algorithmic Trading\\lib\\site-packages\\ipykernel_launcher.py:4: DataConversionWarning: A column-vector y was passed when a 1d array was expected. Please change the shape of y to (n_samples, ), for example using ravel().\n",
      "  after removing the cwd from sys.path.\n"
     ]
    }
   ],
   "source": [
    "from sklearn.neighbors import KNeighborsClassifier\n",
    "#n_neighboors = 40 gives precision = 1 for class 1\n",
    "knn = KNeighborsClassifier(n_neighbors=40)\n",
    "knn.fit(scaled_x_train, scaled_y_train)\n",
    "knn_pred = knn.predict(scaled_x_test)\n",
    "print(classification_report(y_test,knn_pred))\n",
    "print(log_loss(y_test, knn_pred))"
   ]
  },
  {
   "cell_type": "code",
   "execution_count": 56,
   "metadata": {},
   "outputs": [
    {
     "name": "stdout",
     "output_type": "stream",
     "text": [
      "1\n"
     ]
    }
   ],
   "source": [
    "log_losses = []\n",
    "rng = 120\n",
    "\n",
    "scaled_y_train = np.asarray(scaled_y_train).ravel()\n",
    "\n",
    "\n",
    "for i in range(1,rng):\n",
    "    knn = KNeighborsClassifier(n_neighbors=i)\n",
    "    knn.fit(scaled_x_train, scaled_y_train)\n",
    "    pred_i = knn.predict(scaled_x_test)\n",
    "    log_losses.append(log_loss(y_test, pred_i))\n",
    "\n",
    "best_value = log_losses.index(min(log_losses)) + 1\n",
    "print(best_value)"
   ]
  },
  {
   "cell_type": "code",
   "execution_count": 57,
   "metadata": {},
   "outputs": [
    {
     "data": {
      "text/plain": [
       "Text(0, 0.5, 'Loss')"
      ]
     },
     "execution_count": 57,
     "metadata": {},
     "output_type": "execute_result"
    },
    {
     "data": {
      "image/png": "[encoded data removed]",
      "text/plain": [
       "<Figure size 720x432 with 1 Axes>"
      ]
     },
     "metadata": {
      "needs_background": "light"
     },
     "output_type": "display_data"
    }
   ],
   "source": [
    "plt.figure(figsize = (10,6))\n",
    "plt.plot(log_losses, color = 'blue', linestyle = 'dashed', marker = 'o', \n",
    "         markerfacecolor = 'red', markersize = 10)\n",
    "plt.title('Loss vs K Value')\n",
    "plt.xlabel('K')\n",
    "plt.ylabel('Loss')"
   ]
  },
  {
   "cell_type": "markdown",
   "metadata": {},
   "source": [
    "# Combining KNN and Logistic Regression"
   ]
  },
  {
   "cell_type": "code",
   "execution_count": 58,
   "metadata": {},
   "outputs": [
    {
     "ename": "IndentationError",
     "evalue": "expected an indented block (<ipython-input-58-0d27a87a37ab>, line 19)",
     "output_type": "error",
     "traceback": [
      "\u001b[1;36m  File \u001b[1;32m\"<ipython-input-58-0d27a87a37ab>\"\u001b[1;36m, line \u001b[1;32m19\u001b[0m\n\u001b[1;33m    pred1_dicts = list(enumerate(forest_pred))\u001b[0m\n\u001b[1;37m                                              ^\u001b[0m\n\u001b[1;31mIndentationError\u001b[0m\u001b[1;31m:\u001b[0m expected an indented block\n"
     ]
    }
   ],
   "source": [
    "def combine(preds0, preds1):\n",
    "    if len(preds0) != len(preds1):\n",
    "        print('Error: prediction arrays are not the same length')\n",
    "    new_preds = [x for i in range(len(preds0) - 1)]\n",
    "    one_preds = []\n",
    "    zero_preds = []\n",
    "    pred1_dict = list(enumerate(preds1))\n",
    "    pred0_dict = list(enumerate(preds0))\n",
    "    \n",
    "    for i in range(len(preds1) - 1):\n",
    "        if pred1_dict[i][1] == 1:\n",
    "\n",
    "                \n",
    "            \n",
    "    \n",
    "    \n",
    "    \n",
    "    \n",
    "pred1_dicts = list(enumerate(forest_pred))\n",
    "\n",
    "print(pred1_dict)\n",
    "        "
   ]
  },
  {
   "cell_type": "code",
   "execution_count": 59,
   "metadata": {},
   "outputs": [
    {
     "ename": "NameError",
     "evalue": "name 'combine' is not defined",
     "output_type": "error",
     "traceback": [
      "\u001b[1;31m---------------------------------------------------------------------------\u001b[0m",
      "\u001b[1;31mNameError\u001b[0m                                 Traceback (most recent call last)",
      "\u001b[1;32m<ipython-input-59-5ee6aa09434b>\u001b[0m in \u001b[0;36m<module>\u001b[1;34m\u001b[0m\n\u001b[1;32m----> 1\u001b[1;33m \u001b[0mbest_pred\u001b[0m \u001b[1;33m=\u001b[0m \u001b[0mcombine\u001b[0m\u001b[1;33m(\u001b[0m\u001b[0mpreds0\u001b[0m \u001b[1;33m=\u001b[0m \u001b[0mnb_pred\u001b[0m\u001b[1;33m,\u001b[0m \u001b[0mpreds1\u001b[0m \u001b[1;33m=\u001b[0m \u001b[0mforest_pred\u001b[0m\u001b[1;33m)\u001b[0m\u001b[1;33m\u001b[0m\u001b[1;33m\u001b[0m\u001b[0m\n\u001b[0m\u001b[0;32m      2\u001b[0m \u001b[1;33m\u001b[0m\u001b[0m\n\u001b[0;32m      3\u001b[0m \u001b[0mprint\u001b[0m\u001b[1;33m(\u001b[0m\u001b[0mlen\u001b[0m\u001b[1;33m(\u001b[0m\u001b[0mbest_pred\u001b[0m\u001b[1;33m)\u001b[0m\u001b[1;33m)\u001b[0m\u001b[1;33m\u001b[0m\u001b[1;33m\u001b[0m\u001b[0m\n\u001b[0;32m      4\u001b[0m \u001b[0mprint\u001b[0m\u001b[1;33m(\u001b[0m\u001b[0mtype\u001b[0m\u001b[1;33m(\u001b[0m\u001b[0mnb_pred\u001b[0m\u001b[1;33m)\u001b[0m\u001b[1;33m)\u001b[0m\u001b[1;33m\u001b[0m\u001b[1;33m\u001b[0m\u001b[0m\n\u001b[0;32m      5\u001b[0m \u001b[1;31m#print(classification_report(y_test,best_pred))\u001b[0m\u001b[1;33m\u001b[0m\u001b[1;33m\u001b[0m\u001b[1;33m\u001b[0m\u001b[0m\n",
      "\u001b[1;31mNameError\u001b[0m: name 'combine' is not defined"
     ]
    }
   ],
   "source": [
    "best_pred = combine(preds0 = nb_pred, preds1 = forest_pred)\n",
    "\n",
    "print(len(best_pred))\n",
    "print(type(nb_pred))\n",
    "#print(classification_report(y_test,best_pred))\n"
   ]
  },
  {
   "cell_type": "markdown",
   "metadata": {},
   "source": [
    "# AI model "
   ]
  },
  {
   "cell_type": "code",
   "execution_count": 81,
   "metadata": {},
   "outputs": [],
   "source": [
    "import tensorflow as tf\n",
    "from tensorflow.keras import layers\n",
    "from sklearn.metrics import classification_report, confusion_matrix\n",
    "model = tf.keras.Sequential()\n",
    "import keras\n",
    "\n",
    "inputs = tf.keras.Input(shape = (13,))\n",
    "x = layers.Dense(64, activation = 'relu')(inputs)\n",
    "x = layers.Dense(64, activation = 'relu')(x)\n",
    "predictions = layers.Dense(2, activation='softmax')(x)\n",
    "model = tf.keras.Model(inputs=inputs, outputs=predictions)\n",
    "\n",
    "\n",
    "model.compile( optimizer = tf.keras.optimizers.RMSprop(),\n",
    "             loss = keras.losses.SparseCategoricalCrossentropy(),\n",
    "             metrics = [tf.keras.metrics.SparseCategoricalAccuracy()])"
   ]
  },
  {
   "cell_type": "code",
   "execution_count": 91,
   "metadata": {},
   "outputs": [
    {
     "name": "stdout",
     "output_type": "stream",
     "text": [
      "WARNING:tensorflow:Falling back from v2 loop because of error: Failed to find data adapter that can handle input: <class 'pandas.core.frame.DataFrame'>, <class 'NoneType'>\n",
      "Train on 120 samples\n",
      "Epoch 1/100\n",
      "120/120 [==============================] - 0s 183us/sample - loss: 1.1921e-07 - sparse_categorical_accuracy: 1.0000\n",
      "Epoch 2/100\n",
      "120/120 [==============================] - 0s 167us/sample - loss: 1.1921e-07 - sparse_categorical_accuracy: 1.0000\n",
      "Epoch 3/100\n",
      "120/120 [==============================] - 0s 158us/sample - loss: 1.1921e-07 - sparse_categorical_accuracy: 1.0000\n",
      "Epoch 4/100\n",
      "120/120 [==============================] - 0s 183us/sample - loss: 1.1921e-07 - sparse_categorical_accuracy: 1.0000\n",
      "Epoch 5/100\n",
      "120/120 [==============================] - 0s 150us/sample - loss: 1.1921e-07 - sparse_categorical_accuracy: 1.0000\n",
      "Epoch 6/100\n",
      "120/120 [==============================] - 0s 162us/sample - loss: 1.1921e-07 - sparse_categorical_accuracy: 1.0000\n",
      "Epoch 7/100\n",
      "120/120 [==============================] - 0s 250us/sample - loss: 1.1921e-07 - sparse_categorical_accuracy: 1.0000\n",
      "Epoch 8/100\n",
      "120/120 [==============================] - 0s 167us/sample - loss: 1.1921e-07 - sparse_categorical_accuracy: 1.0000\n",
      "Epoch 9/100\n",
      "120/120 [==============================] - 0s 108us/sample - loss: 1.1921e-07 - sparse_categorical_accuracy: 1.0000\n",
      "Epoch 10/100\n",
      "120/120 [==============================] - 0s 108us/sample - loss: 1.1921e-07 - sparse_categorical_accuracy: 1.0000\n",
      "Epoch 11/100\n",
      "120/120 [==============================] - 0s 125us/sample - loss: 1.1921e-07 - sparse_categorical_accuracy: 1.0000\n",
      "Epoch 12/100\n",
      "120/120 [==============================] - 0s 117us/sample - loss: 1.1921e-07 - sparse_categorical_accuracy: 1.0000\n",
      "Epoch 13/100\n",
      "120/120 [==============================] - 0s 158us/sample - loss: 1.1921e-07 - sparse_categorical_accuracy: 1.0000\n",
      "Epoch 14/100\n",
      "120/120 [==============================] - 0s 125us/sample - loss: 1.1921e-07 - sparse_categorical_accuracy: 1.0000\n",
      "Epoch 15/100\n",
      "120/120 [==============================] - 0s 142us/sample - loss: 1.1921e-07 - sparse_categorical_accuracy: 1.0000\n",
      "Epoch 16/100\n",
      "120/120 [==============================] - 0s 150us/sample - loss: 1.1921e-07 - sparse_categorical_accuracy: 1.0000\n",
      "Epoch 17/100\n",
      "120/120 [==============================] - 0s 142us/sample - loss: 1.1921e-07 - sparse_categorical_accuracy: 1.0000\n",
      "Epoch 18/100\n",
      "120/120 [==============================] - 0s 133us/sample - loss: 1.1921e-07 - sparse_categorical_accuracy: 1.0000\n",
      "Epoch 19/100\n",
      "120/120 [==============================] - 0s 142us/sample - loss: 1.1921e-07 - sparse_categorical_accuracy: 1.0000\n",
      "Epoch 20/100\n",
      "120/120 [==============================] - 0s 133us/sample - loss: 1.1921e-07 - sparse_categorical_accuracy: 1.0000\n",
      "Epoch 21/100\n",
      "120/120 [==============================] - 0s 158us/sample - loss: 1.1921e-07 - sparse_categorical_accuracy: 1.0000\n",
      "Epoch 22/100\n",
      "120/120 [==============================] - 0s 133us/sample - loss: 1.1921e-07 - sparse_categorical_accuracy: 1.0000\n",
      "Epoch 23/100\n",
      "120/120 [==============================] - 0s 150us/sample - loss: 1.1921e-07 - sparse_categorical_accuracy: 1.0000\n",
      "Epoch 24/100\n",
      "120/120 [==============================] - 0s 125us/sample - loss: 1.1921e-07 - sparse_categorical_accuracy: 1.0000\n",
      "Epoch 25/100\n",
      "120/120 [==============================] - 0s 133us/sample - loss: 1.1921e-07 - sparse_categorical_accuracy: 1.0000\n",
      "Epoch 26/100\n",
      "120/120 [==============================] - 0s 125us/sample - loss: 1.1921e-07 - sparse_categorical_accuracy: 1.0000\n",
      "Epoch 27/100\n",
      "120/120 [==============================] - 0s 117us/sample - loss: 1.1921e-07 - sparse_categorical_accuracy: 1.0000\n",
      "Epoch 28/100\n",
      "120/120 [==============================] - 0s 133us/sample - loss: 1.1921e-07 - sparse_categorical_accuracy: 1.0000\n",
      "Epoch 29/100\n",
      "120/120 [==============================] - 0s 133us/sample - loss: 1.1921e-07 - sparse_categorical_accuracy: 1.0000\n",
      "Epoch 30/100\n",
      "120/120 [==============================] - 0s 133us/sample - loss: 1.1921e-07 - sparse_categorical_accuracy: 1.0000\n",
      "Epoch 31/100\n",
      "120/120 [==============================] - 0s 133us/sample - loss: 1.1921e-07 - sparse_categorical_accuracy: 1.0000\n",
      "Epoch 32/100\n",
      "120/120 [==============================] - 0s 142us/sample - loss: 1.1921e-07 - sparse_categorical_accuracy: 1.0000\n",
      "Epoch 33/100\n",
      "120/120 [==============================] - 0s 150us/sample - loss: 1.1921e-07 - sparse_categorical_accuracy: 1.0000\n",
      "Epoch 34/100\n",
      "120/120 [==============================] - 0s 133us/sample - loss: 1.1921e-07 - sparse_categorical_accuracy: 1.0000\n",
      "Epoch 35/100\n",
      "120/120 [==============================] - 0s 133us/sample - loss: 1.1921e-07 - sparse_categorical_accuracy: 1.0000\n",
      "Epoch 36/100\n",
      "120/120 [==============================] - 0s 142us/sample - loss: 1.1921e-07 - sparse_categorical_accuracy: 1.0000\n",
      "Epoch 37/100\n",
      "120/120 [==============================] - 0s 142us/sample - loss: 1.1921e-07 - sparse_categorical_accuracy: 1.0000\n",
      "Epoch 38/100\n",
      "120/120 [==============================] - 0s 133us/sample - loss: 1.1921e-07 - sparse_categorical_accuracy: 1.0000\n",
      "Epoch 39/100\n",
      "120/120 [==============================] - 0s 133us/sample - loss: 1.1921e-07 - sparse_categorical_accuracy: 1.0000\n",
      "Epoch 40/100\n",
      "120/120 [==============================] - 0s 133us/sample - loss: 1.1921e-07 - sparse_categorical_accuracy: 1.0000\n",
      "Epoch 41/100\n",
      "120/120 [==============================] - 0s 150us/sample - loss: 1.1921e-07 - sparse_categorical_accuracy: 1.0000\n",
      "Epoch 42/100\n",
      "120/120 [==============================] - 0s 150us/sample - loss: 1.1921e-07 - sparse_categorical_accuracy: 1.0000\n",
      "Epoch 43/100\n",
      "120/120 [==============================] - 0s 142us/sample - loss: 1.1921e-07 - sparse_categorical_accuracy: 1.0000\n",
      "Epoch 44/100\n",
      "120/120 [==============================] - 0s 133us/sample - loss: 1.1921e-07 - sparse_categorical_accuracy: 1.0000\n",
      "Epoch 45/100\n",
      "120/120 [==============================] - 0s 150us/sample - loss: 1.1921e-07 - sparse_categorical_accuracy: 1.0000\n",
      "Epoch 46/100\n",
      "120/120 [==============================] - 0s 150us/sample - loss: 1.1921e-07 - sparse_categorical_accuracy: 1.0000\n",
      "Epoch 47/100\n",
      "120/120 [==============================] - 0s 133us/sample - loss: 1.1921e-07 - sparse_categorical_accuracy: 1.0000\n",
      "Epoch 48/100\n",
      "120/120 [==============================] - 0s 167us/sample - loss: 1.1921e-07 - sparse_categorical_accuracy: 1.0000\n",
      "Epoch 49/100\n",
      "120/120 [==============================] - 0s 125us/sample - loss: 1.1921e-07 - sparse_categorical_accuracy: 1.0000\n",
      "Epoch 50/100\n",
      "120/120 [==============================] - 0s 142us/sample - loss: 1.1921e-07 - sparse_categorical_accuracy: 1.0000\n",
      "Epoch 51/100\n",
      "120/120 [==============================] - 0s 175us/sample - loss: 1.1921e-07 - sparse_categorical_accuracy: 1.0000\n",
      "Epoch 52/100\n",
      "120/120 [==============================] - 0s 167us/sample - loss: 1.1921e-07 - sparse_categorical_accuracy: 1.0000\n",
      "Epoch 53/100\n",
      "120/120 [==============================] - 0s 133us/sample - loss: 1.1921e-07 - sparse_categorical_accuracy: 1.0000\n",
      "Epoch 54/100\n",
      "120/120 [==============================] - 0s 158us/sample - loss: 1.1921e-07 - sparse_categorical_accuracy: 1.0000\n",
      "Epoch 55/100\n",
      "120/120 [==============================] - 0s 133us/sample - loss: 1.1921e-07 - sparse_categorical_accuracy: 1.0000\n",
      "Epoch 56/100\n",
      "120/120 [==============================] - 0s 133us/sample - loss: 1.1921e-07 - sparse_categorical_accuracy: 1.0000\n",
      "Epoch 57/100\n",
      "120/120 [==============================] - 0s 125us/sample - loss: 1.1921e-07 - sparse_categorical_accuracy: 1.0000\n",
      "Epoch 58/100\n",
      "120/120 [==============================] - 0s 125us/sample - loss: 1.1921e-07 - sparse_categorical_accuracy: 1.0000\n",
      "Epoch 59/100\n",
      "120/120 [==============================] - 0s 125us/sample - loss: 1.1921e-07 - sparse_categorical_accuracy: 1.0000\n",
      "Epoch 60/100\n",
      "120/120 [==============================] - 0s 142us/sample - loss: 1.1921e-07 - sparse_categorical_accuracy: 1.0000\n",
      "Epoch 61/100\n",
      "120/120 [==============================] - 0s 142us/sample - loss: 1.1921e-07 - sparse_categorical_accuracy: 1.0000\n",
      "Epoch 62/100\n",
      "120/120 [==============================] - 0s 142us/sample - loss: 1.1921e-07 - sparse_categorical_accuracy: 1.0000\n",
      "Epoch 63/100\n"
     ]
    },
    {
     "name": "stdout",
     "output_type": "stream",
     "text": [
      "120/120 [==============================] - 0s 142us/sample - loss: 1.1921e-07 - sparse_categorical_accuracy: 1.0000\n",
      "Epoch 64/100\n",
      "120/120 [==============================] - 0s 158us/sample - loss: 1.1921e-07 - sparse_categorical_accuracy: 1.0000\n",
      "Epoch 65/100\n",
      "120/120 [==============================] - 0s 142us/sample - loss: 1.1921e-07 - sparse_categorical_accuracy: 1.0000\n",
      "Epoch 66/100\n",
      "120/120 [==============================] - 0s 141us/sample - loss: 1.1921e-07 - sparse_categorical_accuracy: 1.0000\n",
      "Epoch 67/100\n",
      "120/120 [==============================] - 0s 133us/sample - loss: 1.1921e-07 - sparse_categorical_accuracy: 1.0000\n",
      "Epoch 68/100\n",
      "120/120 [==============================] - 0s 142us/sample - loss: 1.1921e-07 - sparse_categorical_accuracy: 1.0000\n",
      "Epoch 69/100\n",
      "120/120 [==============================] - 0s 125us/sample - loss: 1.1921e-07 - sparse_categorical_accuracy: 1.0000\n",
      "Epoch 70/100\n",
      "120/120 [==============================] - 0s 125us/sample - loss: 1.1921e-07 - sparse_categorical_accuracy: 1.0000\n",
      "Epoch 71/100\n",
      "120/120 [==============================] - 0s 117us/sample - loss: 1.1921e-07 - sparse_categorical_accuracy: 1.0000\n",
      "Epoch 72/100\n",
      "120/120 [==============================] - 0s 108us/sample - loss: 1.1921e-07 - sparse_categorical_accuracy: 1.0000\n",
      "Epoch 73/100\n",
      "120/120 [==============================] - 0s 117us/sample - loss: 1.1921e-07 - sparse_categorical_accuracy: 1.0000\n",
      "Epoch 74/100\n",
      "120/120 [==============================] - 0s 117us/sample - loss: 1.1921e-07 - sparse_categorical_accuracy: 1.0000\n",
      "Epoch 75/100\n",
      "120/120 [==============================] - 0s 108us/sample - loss: 1.1921e-07 - sparse_categorical_accuracy: 1.0000\n",
      "Epoch 76/100\n",
      "120/120 [==============================] - 0s 108us/sample - loss: 1.1921e-07 - sparse_categorical_accuracy: 1.0000\n",
      "Epoch 77/100\n",
      "120/120 [==============================] - 0s 117us/sample - loss: 1.1921e-07 - sparse_categorical_accuracy: 1.0000\n",
      "Epoch 78/100\n",
      "120/120 [==============================] - 0s 117us/sample - loss: 1.1921e-07 - sparse_categorical_accuracy: 1.0000\n",
      "Epoch 79/100\n",
      "120/120 [==============================] - 0s 117us/sample - loss: 1.1921e-07 - sparse_categorical_accuracy: 1.0000\n",
      "Epoch 80/100\n",
      "120/120 [==============================] - 0s 117us/sample - loss: 1.1921e-07 - sparse_categorical_accuracy: 1.0000\n",
      "Epoch 81/100\n",
      "120/120 [==============================] - 0s 117us/sample - loss: 1.1921e-07 - sparse_categorical_accuracy: 1.0000\n",
      "Epoch 82/100\n",
      "120/120 [==============================] - 0s 117us/sample - loss: 1.1921e-07 - sparse_categorical_accuracy: 1.0000\n",
      "Epoch 83/100\n",
      "120/120 [==============================] - 0s 117us/sample - loss: 1.1921e-07 - sparse_categorical_accuracy: 1.0000\n",
      "Epoch 84/100\n",
      "120/120 [==============================] - 0s 117us/sample - loss: 1.1921e-07 - sparse_categorical_accuracy: 1.0000\n",
      "Epoch 85/100\n",
      "120/120 [==============================] - 0s 117us/sample - loss: 1.1921e-07 - sparse_categorical_accuracy: 1.0000\n",
      "Epoch 86/100\n",
      "120/120 [==============================] - 0s 117us/sample - loss: 1.1921e-07 - sparse_categorical_accuracy: 1.0000\n",
      "Epoch 87/100\n",
      "120/120 [==============================] - 0s 108us/sample - loss: 1.1921e-07 - sparse_categorical_accuracy: 1.0000\n",
      "Epoch 88/100\n",
      "120/120 [==============================] - 0s 117us/sample - loss: 1.1921e-07 - sparse_categorical_accuracy: 1.0000\n",
      "Epoch 89/100\n",
      "120/120 [==============================] - 0s 117us/sample - loss: 1.1921e-07 - sparse_categorical_accuracy: 1.0000\n",
      "Epoch 90/100\n",
      "120/120 [==============================] - 0s 108us/sample - loss: 1.1921e-07 - sparse_categorical_accuracy: 1.0000\n",
      "Epoch 91/100\n",
      "120/120 [==============================] - 0s 117us/sample - loss: 1.1921e-07 - sparse_categorical_accuracy: 1.0000\n",
      "Epoch 92/100\n",
      "120/120 [==============================] - 0s 117us/sample - loss: 1.1921e-07 - sparse_categorical_accuracy: 1.0000\n",
      "Epoch 93/100\n",
      "120/120 [==============================] - 0s 108us/sample - loss: 1.1921e-07 - sparse_categorical_accuracy: 1.0000\n",
      "Epoch 94/100\n",
      "120/120 [==============================] - 0s 117us/sample - loss: 1.1921e-07 - sparse_categorical_accuracy: 1.0000\n",
      "Epoch 95/100\n",
      "120/120 [==============================] - 0s 125us/sample - loss: 1.1921e-07 - sparse_categorical_accuracy: 1.0000\n",
      "Epoch 96/100\n",
      "120/120 [==============================] - 0s 142us/sample - loss: 1.1921e-07 - sparse_categorical_accuracy: 1.0000\n",
      "Epoch 97/100\n",
      "120/120 [==============================] - ETA: 0s - loss: 1.1921e-07 - sparse_categorical_accuracy: 1.000 - 0s 117us/sample - loss: 1.1921e-07 - sparse_categorical_accuracy: 1.0000\n",
      "Epoch 98/100\n",
      "120/120 [==============================] - 0s 108us/sample - loss: 1.1921e-07 - sparse_categorical_accuracy: 1.0000\n",
      "Epoch 99/100\n",
      "120/120 [==============================] - 0s 125us/sample - loss: 1.1921e-07 - sparse_categorical_accuracy: 1.0000\n",
      "Epoch 100/100\n",
      "120/120 [==============================] - 0s 125us/sample - loss: 1.1921e-07 - sparse_categorical_accuracy: 1.0000\n"
     ]
    },
    {
     "data": {
      "text/plain": [
       "<tensorflow.python.keras.callbacks.History at 0x2687a71d748>"
      ]
     },
     "execution_count": 91,
     "metadata": {},
     "output_type": "execute_result"
    }
   ],
   "source": [
    "model.fit(scaled_x_train, scaled_y_train, batch_size = 10, epochs = 100 )"
   ]
  },
  {
   "cell_type": "code",
   "execution_count": 89,
   "metadata": {},
   "outputs": [],
   "source": [
    "def convert(preds):\n",
    "    new_preds = []\n",
    "    for pred in preds:\n",
    "        if pred[0] > pred[1]:\n",
    "            new_preds.append(0)\n",
    "        else:\n",
    "            new_preds.append(1)\n",
    "    return new_preds"
   ]
  },
  {
   "cell_type": "code",
   "execution_count": 92,
   "metadata": {},
   "outputs": [
    {
     "name": "stdout",
     "output_type": "stream",
     "text": [
      "              precision    recall  f1-score   support\n",
      "\n",
      "           0       0.73      0.85      0.79        26\n",
      "           1       0.87      0.76      0.81        34\n",
      "\n",
      "    accuracy                           0.80        60\n",
      "   macro avg       0.80      0.81      0.80        60\n",
      "weighted avg       0.81      0.80      0.80        60\n",
      "\n",
      "6.907808585477483\n"
     ]
    }
   ],
   "source": [
    "import numpy as np\n",
    "X = np.asarray(scaled_x_test)\n",
    "preds = model.predict(X)\n",
    "preds = convert(preds)\n",
    "\n",
    "print(classification_report(scaled_y_test,preds))\n",
    "print(log_loss(scaled_y_test, preds))\n"
   ]
  }
 ],
 "metadata": {
  "kernelspec": {
   "display_name": "Python 3",
   "language": "python",
   "name": "python3"
  },
  "language_info": {
   "codemirror_mode": {
    "name": "ipython",
    "version": 3
   },
   "file_extension": ".py",
   "mimetype": "text/x-python",
   "name": "python",
   "nbconvert_exporter": "python",
   "pygments_lexer": "ipython3",
   "version": "3.7.5"
  }
 },
 "nbformat": 4,
 "nbformat_minor": 2
}
